{
 "cells": [
  {
   "cell_type": "markdown",
   "metadata": {},
   "source": [
    "## WorkFlow"
   ]
  },
  {
   "cell_type": "markdown",
   "metadata": {},
   "source": [
    "- 문제 정의\n",
    "    - 가장 중요한 부분\n",
    "    - 풀고자 하는 문제를 단계별로 나누고 simplify 하여야 한다.\n",
    "    - 신경망이라는 함수에 넣기 위한 $x$와 결과밧 $y$가 정의되어야 한다.\n",
    "- 데이터 수집\n",
    "    - 문제 정의에 따라 정해진 $x$와 $y$\n",
    "    - 풀고자 하는 문제의 영역에 따라 수집 방법이 다름\n",
    "        - 자연어처리, 컴퓨터비전 : crawling\n",
    "        - 데이터 분석 : 실제 수집한 데이터\n",
    "    - 필요에 따라 레이블링 작업을 수행\n",
    "        - 자동적으로 레이블이 $y$로 주어질 수도 있음\n",
    "        - 하지만 대부분의 경우, 레이블이 따로 필요함\n",
    "        - 비지도학습을 기대하지 말자\n",
    "- 데이터 전처리 및 분석\n",
    "    - 수집된 데이터를 신경망에 넣어주기 위한 형태로 가공하는 과정\n",
    "        - 입출력 값을 정제\n",
    "    - 이 과정에서 EDA(탐험적 분석 _ Exploratory Data Analaysis)가 필요\n",
    "        - 데이터에 알맞는 알고리즘을 찾기 위함\n",
    "        - 자연어처리, 컴퓨터비전의 경우에는 생략되기도 함\n",
    "    - 영상처리(Computer Vision)의 경우, 데이터 증강(augmentation)이 수행됨\n",
    "        - eg) rotation, flipping, shifting 등의 간단한 연산\n",
    "- 알고리즘 적용\n",
    "    - 데이터에 대해 가설을 세우고, 해당 가설을 위한 알고리즘(모델)을 적용\n",
    "- 평가\n",
    "    - 문제 정의에 따른 공정하고 올바른 평가 방법 필요\n",
    "        - 가설을 검증하기 위한 실험 설계\n",
    "    - 테스트 셋 구성\n",
    "        - 너무 쉽거나 어렵다면 판별력이 떨어짐\n",
    "        - 실제 데이터와 가장 가깝게 구성되어야 함\n",
    "    - 정량적 평가와 정성적 평가로 나뉨\n",
    "- 배포\n",
    "    - 학습과 평가가 완료된 모델 weights 파일을 배포함\n",
    "    - RESTful API등을 통해 wrapping 후 배포\n",
    "    - 데이터 분포의 변화에 따른 모델 업데이트 및 유지/보수가 필요할 수 있음"
   ]
  },
  {
   "cell_type": "code",
   "execution_count": 1,
   "metadata": {},
   "outputs": [
    {
     "name": "stdout",
     "output_type": "stream",
     "text": [
      "hello\n"
     ]
    }
   ],
   "source": [
    "print(\"hello\")"
   ]
  },
  {
   "cell_type": "code",
   "execution_count": 2,
   "metadata": {},
   "outputs": [],
   "source": [
    "import torch"
   ]
  },
  {
   "cell_type": "code",
   "execution_count": 3,
   "metadata": {},
   "outputs": [
    {
     "data": {
      "text/plain": [
       "'1.4.0'"
      ]
     },
     "execution_count": 3,
     "metadata": {},
     "output_type": "execute_result"
    }
   ],
   "source": [
    "torch.__version__"
   ]
  },
  {
   "cell_type": "code",
   "execution_count": null,
   "metadata": {},
   "outputs": [],
   "source": []
  }
 ],
 "metadata": {
  "kernelspec": {
   "display_name": "Python 3.8.13 ('yeardream')",
   "language": "python",
   "name": "python3"
  },
  "language_info": {
   "codemirror_mode": {
    "name": "ipython",
    "version": 3
   },
   "file_extension": ".py",
   "mimetype": "text/x-python",
   "name": "python",
   "nbconvert_exporter": "python",
   "pygments_lexer": "ipython3",
   "version": "3.8.13"
  },
  "orig_nbformat": 4,
  "vscode": {
   "interpreter": {
    "hash": "bf3ad073ee54fe618f028f20979c6d93bf2de419467b5c87f8cf480ac49fd2db"
   }
  }
 },
 "nbformat": 4,
 "nbformat_minor": 2
}
