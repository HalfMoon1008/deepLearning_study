{
  "cells": [
    {
      "cell_type": "code",
      "execution_count": 6,
      "metadata": {
        "id": "SqFJ9BgIOQA3"
      },
      "outputs": [],
      "source": [
        "import tensorflow as tf\n",
        "from tensorflow.keras import datasets, models, layers, utils, losses"
      ]
    },
    {
      "cell_type": "code",
      "execution_count": 7,
      "metadata": {
        "id": "4qnVRQHcOQA6"
      },
      "outputs": [],
      "source": [
        "import os\n",
        "os.environ['TF_CPP_MIN_LOG_LEVEL'] = '2' # https://stackoverflow.com/questions/35911252/disable-tensorflow-debugging-information"
      ]
    },
    {
      "cell_type": "markdown",
      "metadata": {
        "id": "PbFsHd_jOQA7"
      },
      "source": [
        "<br> \n",
        "\n",
        "#### 1. Prepare train & test data (MNIST)"
      ]
    },
    {
      "cell_type": "markdown",
      "metadata": {
        "id": "m_k-M0ReOQA8"
      },
      "source": [
        "#### Train & Test split"
      ]
    },
    {
      "cell_type": "code",
      "execution_count": 8,
      "metadata": {
        "colab": {
          "base_uri": "https://localhost:8080/"
        },
        "id": "ktLYoy2rOQA8",
        "outputId": "6f1d24c0-c2de-4a08-f500-04a013c5bb99"
      },
      "outputs": [],
      "source": [
        "(train_data, train_label), (test_data, test_label) = datasets.mnist.load_data()"
      ]
    },
    {
      "cell_type": "code",
      "execution_count": 9,
      "metadata": {
        "colab": {
          "base_uri": "https://localhost:8080/"
        },
        "id": "2XjCqBYwOQA8",
        "outputId": "94e3820a-5666-4a2a-bdd9-6a63d7ec88c8"
      },
      "outputs": [
        {
          "name": "stdout",
          "output_type": "stream",
          "text": [
            "(60000, 28, 28)\n",
            "(10000, 28, 28)\n"
          ]
        }
      ],
      "source": [
        "print(train_data.shape) # # of training data == 60000, each data = 28px * 28px\n",
        "print(test_data.shape) # # of test data == 10000"
      ]
    },
    {
      "cell_type": "code",
      "execution_count": 10,
      "metadata": {
        "colab": {
          "base_uri": "https://localhost:8080/",
          "height": 283
        },
        "id": "LdO-0y9fOQA-",
        "outputId": "901332a7-1a70-4614-a3d6-6831a34311f5"
      },
      "outputs": [
        {
          "data": {
            "text/plain": [
              "<matplotlib.image.AxesImage at 0x14b596d00>"
            ]
          },
          "execution_count": 10,
          "metadata": {},
          "output_type": "execute_result"
        },
        {
          "data": {
            "image/png": "[encoded data removed]",
            "text/plain": [
              "<Figure size 432x288 with 1 Axes>"
            ]
          },
          "metadata": {
            "needs_background": "light"
          },
          "output_type": "display_data"
        }
      ],
      "source": [
        "import matplotlib.pyplot as plt\n",
        "\n",
        "plt.imshow(train_data[0], cmap='gray') # 60000장의 train data 중 첫번째 data"
      ]
    },
    {
      "cell_type": "markdown",
      "metadata": {
        "id": "KoTk1Q33OQA-"
      },
      "source": [
        "#### Normalization"
      ]
    },
    {
      "cell_type": "code",
      "execution_count": 11,
      "metadata": {
        "colab": {
          "base_uri": "https://localhost:8080/"
        },
        "id": "JHfR6wrtOQA_",
        "outputId": "65a3500c-2a6e-4694-e5e3-a7c6de434830"
      },
      "outputs": [
        {
          "name": "stdout",
          "output_type": "stream",
          "text": [
            "0\n",
            "255\n"
          ]
        }
      ],
      "source": [
        "# 각 이미지(28px * 28px)는 0~255 사이의 숫자로 이루어져 있습니다.\n",
        "\n",
        "print(train_data.min())\n",
        "print(train_data.max()) "
      ]
    },
    {
      "cell_type": "code",
      "execution_count": 12,
      "metadata": {
        "id": "chF7mtG8OQA_"
      },
      "outputs": [],
      "source": [
        "# 각 이미지를 [28행 x 28열]에서 [1행 x 784열]로 펼쳐줍니다. \n",
        "# 각 이미지 내의 pixel 값을 [0~255]에서 [0~1]로 바꿔줍니다.\n",
        "\n",
        "train_data = train_data.reshape(60000, 784) / 255.0\n",
        "test_data = test_data.reshape(10000, 784) / 255.0"
      ]
    },
    {
      "cell_type": "code",
      "execution_count": 13,
      "metadata": {
        "colab": {
          "base_uri": "https://localhost:8080/"
        },
        "id": "x2SLeDOoOQBA",
        "outputId": "db05188c-f4f6-437b-f5bb-0caaa9e92173"
      },
      "outputs": [
        {
          "data": {
            "text/plain": [
              "(60000, 784)"
            ]
          },
          "execution_count": 13,
          "metadata": {},
          "output_type": "execute_result"
        }
      ],
      "source": [
        "train_data.shape"
      ]
    },
    {
      "cell_type": "markdown",
      "metadata": {
        "id": "KZMFJwoNOQBA"
      },
      "source": [
        "#### One-hot encoding"
      ]
    },
    {
      "cell_type": "code",
      "execution_count": 14,
      "metadata": {
        "colab": {
          "base_uri": "https://localhost:8080/"
        },
        "id": "EN7QJhOVOQBB",
        "outputId": "11771363-ed28-4a19-f568-8e6950e5c758"
      },
      "outputs": [
        {
          "data": {
            "text/plain": [
              "array([5, 0, 4, ..., 5, 6, 8], dtype=uint8)"
            ]
          },
          "execution_count": 14,
          "metadata": {},
          "output_type": "execute_result"
        }
      ],
      "source": [
        "# 각 이미지에 대한 label은 integer value로 이루어져 있습니다.\n",
        "\n",
        "train_label"
      ]
    },
    {
      "cell_type": "code",
      "execution_count": 15,
      "metadata": {
        "id": "YR1KRMSgOQBB"
      },
      "outputs": [],
      "source": [
        "# 각 label을 integer value에서 one-hot vector로 변경해줍니다. (Tensorflow 2.x 활용)\n",
        "\n",
        "train_label = utils.to_categorical(train_label) # 0~9 -> one-hot vector\n",
        "test_label = utils.to_categorical(test_label) # 0~9 -> one-hot vector"
      ]
    },
    {
      "cell_type": "code",
      "execution_count": 16,
      "metadata": {
        "colab": {
          "base_uri": "https://localhost:8080/",
          "height": 143
        },
        "id": "7LDZEsK0OQBB",
        "outputId": "792f0bcc-fadc-4560-9efb-2f3e8efe4999"
      },
      "outputs": [
        {
          "data": {
            "text/html": [
              "<div>\n",
              "<style scoped>\n",
              "    .dataframe tbody tr th:only-of-type {\n",
              "        vertical-align: middle;\n",
              "    }\n",
              "\n",
              "    .dataframe tbody tr th {\n",
              "        vertical-align: top;\n",
              "    }\n",
              "\n",
              "    .dataframe thead th {\n",
              "        text-align: right;\n",
              "    }\n",
              "</style>\n",
              "<table border=\"1\" class=\"dataframe\">\n",
              "  <thead>\n",
              "    <tr style=\"text-align: right;\">\n",
              "      <th></th>\n",
              "      <th>0</th>\n",
              "      <th>1</th>\n",
              "      <th>2</th>\n",
              "      <th>3</th>\n",
              "      <th>4</th>\n",
              "      <th>5</th>\n",
              "      <th>6</th>\n",
              "      <th>7</th>\n",
              "      <th>8</th>\n",
              "      <th>9</th>\n",
              "    </tr>\n",
              "  </thead>\n",
              "  <tbody>\n",
              "    <tr>\n",
              "      <th>0</th>\n",
              "      <td>0.0</td>\n",
              "      <td>0.0</td>\n",
              "      <td>0.0</td>\n",
              "      <td>0.0</td>\n",
              "      <td>0.0</td>\n",
              "      <td>1.0</td>\n",
              "      <td>0.0</td>\n",
              "      <td>0.0</td>\n",
              "      <td>0.0</td>\n",
              "      <td>0.0</td>\n",
              "    </tr>\n",
              "    <tr>\n",
              "      <th>1</th>\n",
              "      <td>1.0</td>\n",
              "      <td>0.0</td>\n",
              "      <td>0.0</td>\n",
              "      <td>0.0</td>\n",
              "      <td>0.0</td>\n",
              "      <td>0.0</td>\n",
              "      <td>0.0</td>\n",
              "      <td>0.0</td>\n",
              "      <td>0.0</td>\n",
              "      <td>0.0</td>\n",
              "    </tr>\n",
              "    <tr>\n",
              "      <th>2</th>\n",
              "      <td>0.0</td>\n",
              "      <td>0.0</td>\n",
              "      <td>0.0</td>\n",
              "      <td>0.0</td>\n",
              "      <td>1.0</td>\n",
              "      <td>0.0</td>\n",
              "      <td>0.0</td>\n",
              "      <td>0.0</td>\n",
              "      <td>0.0</td>\n",
              "      <td>0.0</td>\n",
              "    </tr>\n",
              "  </tbody>\n",
              "</table>\n",
              "</div>"
            ],
            "text/plain": [
              "     0    1    2    3    4    5    6    7    8    9\n",
              "0  0.0  0.0  0.0  0.0  0.0  1.0  0.0  0.0  0.0  0.0\n",
              "1  1.0  0.0  0.0  0.0  0.0  0.0  0.0  0.0  0.0  0.0\n",
              "2  0.0  0.0  0.0  0.0  1.0  0.0  0.0  0.0  0.0  0.0"
            ]
          },
          "execution_count": 16,
          "metadata": {},
          "output_type": "execute_result"
        }
      ],
      "source": [
        "# 기존의 integer label들이 아래와 같은 one-hot vector들로 변경된 것을 확인할 수 있습니다.\n",
        "\n",
        "import pandas as pd\n",
        "\n",
        "pd.DataFrame(train_label).head(3)"
      ]
    },
    {
      "cell_type": "markdown",
      "metadata": {
        "id": "b89QF1i4OQBC"
      },
      "source": [
        "#### 2. Build the model & Set the criterion"
      ]
    },
    {
      "cell_type": "markdown",
      "metadata": {
        "id": "sMhlG9TiOQBC"
      },
      "source": [
        "tf.keras\n",
        "\n",
        "- Sequential ⮕ Today!\n",
        "- Functional"
      ]
    },
    {
      "cell_type": "code",
      "execution_count": 17,
      "metadata": {
        "id": "aoj3kDTLOQBC"
      },
      "outputs": [
        {
          "name": "stdout",
          "output_type": "stream",
          "text": [
            "Metal device set to: AMD Radeon Pro 5500M\n",
            "\n",
            "systemMemory: 16.00 GB\n",
            "maxCacheSize: 1.99 GB\n",
            "\n"
          ]
        }
      ],
      "source": [
        "model = models.Sequential() # Build up the \"Sequence\" of layers (Linear stack of layers)"
      ]
    },
    {
      "cell_type": "code",
      "execution_count": 18,
      "metadata": {
        "id": "G3QkZbPdOQBD"
      },
      "outputs": [],
      "source": [
        "model.add(layers.Dense(input_dim=28*28, units=512, activation='relu', kernel_initializer='he_uniform')) # Dense-layer (relu & he)\n",
        "# kernel_initializer의 default는 자비에?\n",
        "# he_uniform 혹은 he_normal을 사용할 수 있다. 성능이 더 좋은거 쓰면 됨\n",
        "model.add(layers.Dropout(0.2)) # Dropout-layer\n",
        "# 여기부터는 Dropout은 죽일 비율을 뜻한다.\n",
        "# ver1과는 반대\n",
        "\n",
        "\n",
        "# layer를 추가할거면 아래와 같이\n",
        "# model.add(layers.Dense(units=256, activation='relu', kernel_initializer='he_normla'))\n",
        "# 이 때, input_dim은 맨 처음 설정한 값을 따라감\n",
        "\n",
        "model.add(layers.Dense(units=10, activation='softmax')) # (Output) Dense-layer with softmax function, 0~9 -> 10\n",
        "# units은 outputlayer가 가졌으면 하는 퍼셉트론 수\n",
        "# 우리는 10개의 열이기 때문에 유닛 또한 10"
      ]
    },
    {
      "cell_type": "code",
      "execution_count": 19,
      "metadata": {
        "id": "rYfx1DzPOQBD"
      },
      "outputs": [],
      "source": [
        "# \"Compile\" the model description (Configures the model for training)\n",
        "# model.compile을 해줘야 사람이 쓴 코드를 컴퓨터가 이해할 수 있도록 변환됨\n",
        "model.compile(optimizer='adam', \n",
        "              loss=losses.categorical_crossentropy, # See other available losses @ https://keras.io/losses/\n",
        "              metrics=['accuracy']) # TF 2.X 에서 Precision / Recall / F1-Score 적용하기 @ https://j.mp/3cf3lbi"
      ]
    },
    {
      "cell_type": "code",
      "execution_count": 20,
      "metadata": {
        "colab": {
          "base_uri": "https://localhost:8080/"
        },
        "id": "qZk_cWKIOQBD",
        "outputId": "29a0fcde-2074-4790-f4b9-91014031d2cd"
      },
      "outputs": [
        {
          "name": "stdout",
          "output_type": "stream",
          "text": [
            "Model: \"sequential\"\n",
            "_________________________________________________________________\n",
            " Layer (type)                Output Shape              Param #   \n",
            "=================================================================\n",
            " dense (Dense)               (None, 512)               401920    \n",
            "                                                                 \n",
            " dropout (Dropout)           (None, 512)               0         \n",
            "                                                                 \n",
            " dense_1 (Dense)             (None, 10)                5130      \n",
            "                                                                 \n",
            "=================================================================\n",
            "Total params: 407,050\n",
            "Trainable params: 407,050\n",
            "Non-trainable params: 0\n",
            "_________________________________________________________________\n"
          ]
        }
      ],
      "source": [
        "model.summary()"
      ]
    },
    {
      "cell_type": "code",
      "execution_count": 21,
      "metadata": {
        "id": "0voTX9NZOQBE"
      },
      "outputs": [],
      "source": [
        "# # Regression\n",
        "# model.add(layers.Dense(units=1, activation=None))\n",
        "# model.compile(optimizer='adam',\n",
        "#               loss=losses.mean_squared_error,\n",
        "#               metrics=['mean_squared_error']) \n",
        "\n",
        "# # Multi-class classification\n",
        "# model.add(layers.Dense(units=10, activation='softmax'))\n",
        "# model.compile(optimizer='adam',\n",
        "#               loss=losses.categorical_crossentropy,        # <- Label이 One-hot 형태일 경우\n",
        "#               loss=losses.sparse_categorical_crossentropy, # <- Label이 One-hot 형태가 아닐 경우\n",
        "#               metrics=['accuracy']) \n",
        "\n",
        "# # Binary Classification 1 (Softmax를 적용하는 경우, recommended)\n",
        "# model.add(layers.Dense(units=2, activation='softmax'))\n",
        "# model.compile(optimizer='adam',\n",
        "#               loss=losses.categorical_crossentropy,\n",
        "#               metrics=['accuracy']) \n",
        "\n",
        "# # Binary Classification 2 (Sigmoid를 적용하는 경우)\n",
        "# # 선형결합 결과에 대해 sigmoid function의 output을 계산해주면, binary_crossentropy가 이를 음성 & 양성 확률로 변환하여 처리해줍니다.\n",
        "# model.add(layers.Dense(units=1, activation='sigmoid')) \n",
        "# model.compile(optimizer='adam',\n",
        "#               loss=losses.binary_crossentropy, \n",
        "#               metrics=['accuracy']) "
      ]
    },
    {
      "cell_type": "markdown",
      "metadata": {
        "id": "IJZwVgbROQBE"
      },
      "source": [
        "#### 3. Train the model"
      ]
    },
    {
      "cell_type": "code",
      "execution_count": 22,
      "metadata": {
        "colab": {
          "base_uri": "https://localhost:8080/"
        },
        "id": "sx7NzrzOOQBE",
        "outputId": "f1fde4de-8a1d-404f-bf7d-fb1b7ee36257"
      },
      "outputs": [
        {
          "name": "stdout",
          "output_type": "stream",
          "text": [
            "Epoch 1/10\n",
            "600/600 [==============================] - 9s 11ms/step - loss: 0.2691 - accuracy: 0.9215\n",
            "Epoch 2/10\n",
            "600/600 [==============================] - 6s 11ms/step - loss: 0.1144 - accuracy: 0.9663\n",
            "Epoch 3/10\n",
            "600/600 [==============================] - 6s 10ms/step - loss: 0.0787 - accuracy: 0.9763\n",
            "Epoch 4/10\n",
            "600/600 [==============================] - 6s 10ms/step - loss: 0.0592 - accuracy: 0.9821\n",
            "Epoch 5/10\n",
            "600/600 [==============================] - 6s 10ms/step - loss: 0.0455 - accuracy: 0.9862\n",
            "Epoch 6/10\n",
            "600/600 [==============================] - 6s 10ms/step - loss: 0.0376 - accuracy: 0.9882\n",
            "Epoch 7/10\n",
            "600/600 [==============================] - 6s 10ms/step - loss: 0.0307 - accuracy: 0.9903\n",
            "Epoch 8/10\n",
            "600/600 [==============================] - 6s 11ms/step - loss: 0.0253 - accuracy: 0.9919\n",
            "Epoch 9/10\n",
            "600/600 [==============================] - 6s 10ms/step - loss: 0.0216 - accuracy: 0.9932\n",
            "Epoch 10/10\n",
            "600/600 [==============================] - 6s 10ms/step - loss: 0.0196 - accuracy: 0.9936\n"
          ]
        },
        {
          "data": {
            "text/plain": [
              "<keras.callbacks.History at 0x14dee5e20>"
            ]
          },
          "execution_count": 22,
          "metadata": {},
          "output_type": "execute_result"
        }
      ],
      "source": [
        "# Fit the model on training data\n",
        "\n",
        "model.fit(train_data, train_label, batch_size=100, epochs=10) # default batch_size = 32"
      ]
    },
    {
      "cell_type": "markdown",
      "metadata": {
        "id": "oQCdivTTOQBF"
      },
      "source": [
        "#### 4. Test the model"
      ]
    },
    {
      "cell_type": "code",
      "execution_count": 23,
      "metadata": {
        "colab": {
          "base_uri": "https://localhost:8080/"
        },
        "id": "l9K2VJM9OQBF",
        "outputId": "d3c3d818-1908-443b-e159-52ce47f53ba5"
      },
      "outputs": [
        {
          "name": "stdout",
          "output_type": "stream",
          "text": [
            "100/100 [==============================] - 1s 7ms/step - loss: 0.0731 - accuracy: 0.9785\n"
          ]
        }
      ],
      "source": [
        "# Evaluate the model on test data\n",
        "\n",
        "result = model.evaluate(test_data, test_label, batch_size=100)"
      ]
    },
    {
      "cell_type": "code",
      "execution_count": 24,
      "metadata": {
        "colab": {
          "base_uri": "https://localhost:8080/"
        },
        "id": "Vud1zr2dOQBF",
        "outputId": "16d97983-c05c-4913-ab57-2f0a0dd749c9"
      },
      "outputs": [
        {
          "name": "stdout",
          "output_type": "stream",
          "text": [
            "1/1 [==============================] - 0s 139ms/step\n"
          ]
        },
        {
          "data": {
            "text/plain": [
              "1.0"
            ]
          },
          "execution_count": 24,
          "metadata": {},
          "output_type": "execute_result"
        }
      ],
      "source": [
        "import numpy as np\n",
        "\n",
        "np.sum(model.predict(test_data[0:1, :]))"
      ]
    },
    {
      "cell_type": "code",
      "execution_count": 25,
      "metadata": {
        "colab": {
          "base_uri": "https://localhost:8080/"
        },
        "id": "5DpHE5w3OQBF",
        "outputId": "9e41103f-8f81-4baf-944f-c3a31d795dcf"
      },
      "outputs": [
        {
          "name": "stdout",
          "output_type": "stream",
          "text": [
            "loss (cross-entropy) : 0.07314357161521912\n",
            "test accuracy : 0.9784999489784241\n"
          ]
        }
      ],
      "source": [
        "print('loss (cross-entropy) :', result[0])\n",
        "print('test accuracy :', result[1])"
      ]
    },
    {
      "cell_type": "markdown",
      "metadata": {
        "id": "E1Cq-fJ1OQBF"
      },
      "source": [
        "### (Appendix 1) tf.keras.layers.Flatten() 활용법"
      ]
    },
    {
      "cell_type": "code",
      "execution_count": 26,
      "metadata": {
        "colab": {
          "base_uri": "https://localhost:8080/"
        },
        "id": "tOZ56V32OQBF",
        "outputId": "50b84189-f97e-40e0-f7db-f6a6e1aa3149"
      },
      "outputs": [
        {
          "data": {
            "text/plain": [
              "(60000, 28, 28)"
            ]
          },
          "execution_count": 26,
          "metadata": {},
          "output_type": "execute_result"
        }
      ],
      "source": [
        "(train_data, train_label), (test_data, test_label) = datasets.mnist.load_data()\n",
        "\n",
        "train_data.shape"
      ]
    },
    {
      "cell_type": "code",
      "execution_count": 27,
      "metadata": {
        "colab": {
          "base_uri": "https://localhost:8080/"
        },
        "id": "TSwdvA2MOQBG",
        "outputId": "6cb614a3-a796-41c4-f274-3b3c2f5aa1b9"
      },
      "outputs": [
        {
          "data": {
            "text/plain": [
              "(60000, 784)"
            ]
          },
          "execution_count": 27,
          "metadata": {},
          "output_type": "execute_result"
        }
      ],
      "source": [
        "(train_data, train_label), (test_data, test_label) = datasets.mnist.load_data()\n",
        "\n",
        "train_data.reshape(60000,784).shape"
      ]
    },
    {
      "cell_type": "code",
      "execution_count": 28,
      "metadata": {
        "colab": {
          "base_uri": "https://localhost:8080/"
        },
        "id": "1Vn7iyHEOQBG",
        "outputId": "6936b5ca-0a00-4acc-8f1e-c795ccbd6817"
      },
      "outputs": [
        {
          "name": "stdout",
          "output_type": "stream",
          "text": [
            "Epoch 1/10\n",
            "600/600 [==============================] - 6s 10ms/step - loss: 0.2680 - accuracy: 0.9228\n",
            "Epoch 2/10\n",
            "600/600 [==============================] - 7s 11ms/step - loss: 0.1131 - accuracy: 0.9668\n",
            "Epoch 3/10\n",
            "600/600 [==============================] - 6s 10ms/step - loss: 0.0764 - accuracy: 0.9768\n",
            "Epoch 4/10\n",
            "600/600 [==============================] - 6s 10ms/step - loss: 0.0580 - accuracy: 0.9821\n",
            "Epoch 5/10\n",
            "600/600 [==============================] - 6s 10ms/step - loss: 0.0469 - accuracy: 0.9850\n",
            "Epoch 6/10\n",
            "600/600 [==============================] - 6s 10ms/step - loss: 0.0360 - accuracy: 0.9889\n",
            "Epoch 7/10\n",
            "600/600 [==============================] - 6s 10ms/step - loss: 0.0284 - accuracy: 0.9917\n",
            "Epoch 8/10\n",
            "600/600 [==============================] - 6s 10ms/step - loss: 0.0249 - accuracy: 0.9921\n",
            "Epoch 9/10\n",
            "600/600 [==============================] - 6s 10ms/step - loss: 0.0213 - accuracy: 0.9934\n",
            "Epoch 10/10\n",
            "600/600 [==============================] - 6s 10ms/step - loss: 0.0183 - accuracy: 0.9941\n",
            "100/100 [==============================] - 1s 10ms/step - loss: 0.0691 - accuracy: 0.9799\n",
            "loss (cross-entropy) : 0.06906642019748688\n",
            "test accuracy : 0.9799000024795532\n"
          ]
        }
      ],
      "source": [
        "(train_data, train_label), (test_data, test_label) = datasets.mnist.load_data()\n",
        "\n",
        "# 아래 코드에서 reshape 적용을 생략하고, 대신 Flatten 레이어를 활용해 펼쳐낼 수 있습니다.\n",
        "# train_data = train_data.reshape(60000, 784) / 255.0\n",
        "# test_data = test_data.reshape(10000, 784) / 255.0\n",
        "\n",
        "train_data = train_data / 255.0\n",
        "test_data = test_data / 255.0\n",
        "\n",
        "train_label = utils.to_categorical(train_label)\n",
        "test_label = utils.to_categorical(test_label)\n",
        "\n",
        "\n",
        "model = models.Sequential() \n",
        "\n",
        "model.add(layers.Flatten()) # takes our 28x28 and makes it 1x784\n",
        "\n",
        "# model.add(layers.Dense(input_dim=28*28, units=512, activation='relu', kernel_initializer='he_uniform')) \n",
        "model.add(layers.Dense(units=512, activation=tf.nn.relu, kernel_initializer='he_uniform')) # tf.nn 활용이 가능합니다.\n",
        "model.add(layers.Dropout(0.2))\n",
        "model.add(layers.Dense(units=10, activation=tf.nn.softmax)) # tf.nn 활용이 가능합니다.\n",
        "\n",
        "model.compile(optimizer='adam', \n",
        "              loss=losses.categorical_crossentropy, \n",
        "              metrics=['accuracy'])\n",
        "\n",
        "model.fit(train_data, train_label, batch_size=100, epochs=10) \n",
        "\n",
        "result = model.evaluate(test_data, test_label, batch_size=100)\n",
        "print('loss (cross-entropy) :', result[0])\n",
        "print('test accuracy :', result[1])"
      ]
    },
    {
      "cell_type": "markdown",
      "metadata": {
        "id": "9atEX1xOOQBG"
      },
      "source": [
        "### (Appendix 2) AutoKeras 활용법 (https://autokeras.com/)"
      ]
    },
    {
      "cell_type": "markdown",
      "metadata": {
        "id": "1YbbbyXYOQBG"
      },
      "source": [
        "**\\* <span style=\"color:blue;\">AutoKeras보다 더 유용한 도구인 Keras-Tuner를 곧 학습할 예정입니다.</span>**\n",
        "\n",
        "\\* PyTorch 및 AutoKeras 설치 & AutoKeras fitting 과정에 시간이 무척 많이 소요됩니다.\n",
        "<br>\\* 개발환경이 영향을 받을 수 있으니 아래 코드는 **<span style=\"color:red;\">Google Colab 에서 실행</span>**하시는 것을 적극 권장합니다. (혹은 Conda 가상환경 활용)\n",
        "<br>\\* 금일 실습을 마치고 추후 복습하실 때 살펴보세요.\n",
        "<br><br>\n",
        "\n",
        "1) 먼저 OS에 맞는 pytorch를 설치해주어야 합니다. (available pip whl files @ https://goo.gl/uYVaPa)\n",
        "\n",
        ">conda install pytorch torchvision torchaudio cpuonly -c pytorch\n",
        "\n",
        "2) 그 다음 아래 명령어로 AutoKeras를 설치해줍니다.\n",
        "\n",
        "> pip install autokeras"
      ]
    },
    {
      "cell_type": "code",
      "execution_count": 29,
      "metadata": {
        "id": "u1RiDRxROQBG"
      },
      "outputs": [],
      "source": [
        "from keras import datasets, models, layers, utils\n",
        "(train_data, train_label), (test_data, test_label) = datasets.mnist.load_data()"
      ]
    },
    {
      "cell_type": "code",
      "execution_count": 30,
      "metadata": {
        "colab": {
          "base_uri": "https://localhost:8080/"
        },
        "id": "W_IFCSYmPAie",
        "outputId": "39ce80e7-807e-4cdb-cf22-8757adca8598"
      },
      "outputs": [
        {
          "name": "stdout",
          "output_type": "stream",
          "text": [
            "Collecting autokeras\n",
            "  Downloading autokeras-1.0.19-py3-none-any.whl (162 kB)\n",
            "\u001b[2K     \u001b[38;2;114;156;31m━━━━━━━━━━━━━━━━━━━━━━━━━━━━━━━━━━━━━━━\u001b[0m \u001b[32m162.4/162.4 kB\u001b[0m \u001b[31m3.1 MB/s\u001b[0m eta \u001b[36m0:00:00\u001b[0m[31m5.5 MB/s\u001b[0m eta \u001b[36m0:00:01\u001b[0m\n",
            "\u001b[?25hCollecting tensorflow>=2.8.0\n",
            "  Using cached tensorflow-2.9.1-cp39-cp39-macosx_10_14_x86_64.whl (228.5 MB)\n",
            "Collecting keras-tuner>=1.1.0\n",
            "  Downloading keras_tuner-1.1.2-py3-none-any.whl (133 kB)\n",
            "\u001b[2K     \u001b[38;2;114;156;31m━━━━━━━━━━━━━━━━━━━━━━━━━━━━━━━━━━━━━━━\u001b[0m \u001b[32m133.7/133.7 kB\u001b[0m \u001b[31m3.9 MB/s\u001b[0m eta \u001b[36m0:00:00\u001b[0m\n",
            "\u001b[?25hRequirement already satisfied: pandas in /Users/sanghyun/miniforge3/envs/my_tensorflow/lib/python3.9/site-packages (from autokeras) (1.4.3)\n",
            "Requirement already satisfied: packaging in /Users/sanghyun/miniforge3/envs/my_tensorflow/lib/python3.9/site-packages (from autokeras) (21.3)\n",
            "Requirement already satisfied: ipython in /Users/sanghyun/miniforge3/envs/my_tensorflow/lib/python3.9/site-packages (from keras-tuner>=1.1.0->autokeras) (8.4.0)\n",
            "Requirement already satisfied: numpy in /Users/sanghyun/miniforge3/envs/my_tensorflow/lib/python3.9/site-packages (from keras-tuner>=1.1.0->autokeras) (1.23.0)\n",
            "Requirement already satisfied: tensorboard in /Users/sanghyun/miniforge3/envs/my_tensorflow/lib/python3.9/site-packages (from keras-tuner>=1.1.0->autokeras) (2.9.1)\n",
            "Requirement already satisfied: requests in /Users/sanghyun/miniforge3/envs/my_tensorflow/lib/python3.9/site-packages (from keras-tuner>=1.1.0->autokeras) (2.28.1)\n",
            "Collecting kt-legacy\n",
            "  Downloading kt_legacy-1.0.4-py3-none-any.whl (9.6 kB)\n",
            "Requirement already satisfied: astunparse>=1.6.0 in /Users/sanghyun/miniforge3/envs/my_tensorflow/lib/python3.9/site-packages (from tensorflow>=2.8.0->autokeras) (1.6.3)\n",
            "Requirement already satisfied: google-pasta>=0.1.1 in /Users/sanghyun/miniforge3/envs/my_tensorflow/lib/python3.9/site-packages (from tensorflow>=2.8.0->autokeras) (0.2.0)\n",
            "Requirement already satisfied: wrapt>=1.11.0 in /Users/sanghyun/miniforge3/envs/my_tensorflow/lib/python3.9/site-packages (from tensorflow>=2.8.0->autokeras) (1.14.1)\n",
            "Collecting tensorflow-io-gcs-filesystem>=0.23.1\n",
            "  Using cached tensorflow_io_gcs_filesystem-0.26.0-cp39-cp39-macosx_10_14_x86_64.whl (1.6 MB)\n",
            "Requirement already satisfied: grpcio<2.0,>=1.24.3 in /Users/sanghyun/miniforge3/envs/my_tensorflow/lib/python3.9/site-packages (from tensorflow>=2.8.0->autokeras) (1.47.0)\n",
            "Requirement already satisfied: gast<=0.4.0,>=0.2.1 in /Users/sanghyun/miniforge3/envs/my_tensorflow/lib/python3.9/site-packages (from tensorflow>=2.8.0->autokeras) (0.4.0)\n",
            "Requirement already satisfied: libclang>=13.0.0 in /Users/sanghyun/miniforge3/envs/my_tensorflow/lib/python3.9/site-packages (from tensorflow>=2.8.0->autokeras) (14.0.1)\n",
            "Requirement already satisfied: setuptools in /Users/sanghyun/miniforge3/envs/my_tensorflow/lib/python3.9/site-packages (from tensorflow>=2.8.0->autokeras) (62.6.0)\n",
            "Requirement already satisfied: opt-einsum>=2.3.2 in /Users/sanghyun/miniforge3/envs/my_tensorflow/lib/python3.9/site-packages (from tensorflow>=2.8.0->autokeras) (3.3.0)\n",
            "Requirement already satisfied: typing-extensions>=3.6.6 in /Users/sanghyun/miniforge3/envs/my_tensorflow/lib/python3.9/site-packages (from tensorflow>=2.8.0->autokeras) (4.2.0)\n",
            "Requirement already satisfied: tensorflow-estimator<2.10.0,>=2.9.0rc0 in /Users/sanghyun/miniforge3/envs/my_tensorflow/lib/python3.9/site-packages (from tensorflow>=2.8.0->autokeras) (2.9.0)\n",
            "Requirement already satisfied: six>=1.12.0 in /Users/sanghyun/miniforge3/envs/my_tensorflow/lib/python3.9/site-packages (from tensorflow>=2.8.0->autokeras) (1.16.0)\n",
            "Requirement already satisfied: keras-preprocessing>=1.1.1 in /Users/sanghyun/miniforge3/envs/my_tensorflow/lib/python3.9/site-packages (from tensorflow>=2.8.0->autokeras) (1.1.2)\n",
            "Requirement already satisfied: keras<2.10.0,>=2.9.0rc0 in /Users/sanghyun/miniforge3/envs/my_tensorflow/lib/python3.9/site-packages (from tensorflow>=2.8.0->autokeras) (2.9.0)\n",
            "Requirement already satisfied: absl-py>=1.0.0 in /Users/sanghyun/miniforge3/envs/my_tensorflow/lib/python3.9/site-packages (from tensorflow>=2.8.0->autokeras) (1.1.0)\n",
            "Requirement already satisfied: termcolor>=1.1.0 in /Users/sanghyun/miniforge3/envs/my_tensorflow/lib/python3.9/site-packages (from tensorflow>=2.8.0->autokeras) (1.1.0)\n",
            "Requirement already satisfied: protobuf<3.20,>=3.9.2 in /Users/sanghyun/miniforge3/envs/my_tensorflow/lib/python3.9/site-packages (from tensorflow>=2.8.0->autokeras) (3.19.4)\n",
            "Requirement already satisfied: h5py>=2.9.0 in /Users/sanghyun/miniforge3/envs/my_tensorflow/lib/python3.9/site-packages (from tensorflow>=2.8.0->autokeras) (3.7.0)\n",
            "Requirement already satisfied: flatbuffers<2,>=1.12 in /Users/sanghyun/miniforge3/envs/my_tensorflow/lib/python3.9/site-packages (from tensorflow>=2.8.0->autokeras) (1.12)\n",
            "Requirement already satisfied: pyparsing!=3.0.5,>=2.0.2 in /Users/sanghyun/miniforge3/envs/my_tensorflow/lib/python3.9/site-packages (from packaging->autokeras) (3.0.9)\n",
            "Requirement already satisfied: python-dateutil>=2.8.1 in /Users/sanghyun/miniforge3/envs/my_tensorflow/lib/python3.9/site-packages (from pandas->autokeras) (2.8.2)\n",
            "Requirement already satisfied: pytz>=2020.1 in /Users/sanghyun/miniforge3/envs/my_tensorflow/lib/python3.9/site-packages (from pandas->autokeras) (2022.1)\n",
            "Requirement already satisfied: wheel<1.0,>=0.23.0 in /Users/sanghyun/miniforge3/envs/my_tensorflow/lib/python3.9/site-packages (from astunparse>=1.6.0->tensorflow>=2.8.0->autokeras) (0.37.1)\n",
            "Requirement already satisfied: tensorboard-plugin-wit>=1.6.0 in /Users/sanghyun/miniforge3/envs/my_tensorflow/lib/python3.9/site-packages (from tensorboard->keras-tuner>=1.1.0->autokeras) (1.8.1)\n",
            "Requirement already satisfied: werkzeug>=1.0.1 in /Users/sanghyun/miniforge3/envs/my_tensorflow/lib/python3.9/site-packages (from tensorboard->keras-tuner>=1.1.0->autokeras) (2.1.2)\n",
            "Requirement already satisfied: tensorboard-data-server<0.7.0,>=0.6.0 in /Users/sanghyun/miniforge3/envs/my_tensorflow/lib/python3.9/site-packages (from tensorboard->keras-tuner>=1.1.0->autokeras) (0.6.1)\n",
            "Requirement already satisfied: markdown>=2.6.8 in /Users/sanghyun/miniforge3/envs/my_tensorflow/lib/python3.9/site-packages (from tensorboard->keras-tuner>=1.1.0->autokeras) (3.3.7)\n",
            "Requirement already satisfied: google-auth-oauthlib<0.5,>=0.4.1 in /Users/sanghyun/miniforge3/envs/my_tensorflow/lib/python3.9/site-packages (from tensorboard->keras-tuner>=1.1.0->autokeras) (0.4.6)\n",
            "Requirement already satisfied: google-auth<3,>=1.6.3 in /Users/sanghyun/miniforge3/envs/my_tensorflow/lib/python3.9/site-packages (from tensorboard->keras-tuner>=1.1.0->autokeras) (2.9.0)\n",
            "Requirement already satisfied: charset-normalizer<3,>=2 in /Users/sanghyun/miniforge3/envs/my_tensorflow/lib/python3.9/site-packages (from requests->keras-tuner>=1.1.0->autokeras) (2.1.0)\n",
            "Requirement already satisfied: idna<4,>=2.5 in /Users/sanghyun/miniforge3/envs/my_tensorflow/lib/python3.9/site-packages (from requests->keras-tuner>=1.1.0->autokeras) (3.3)\n",
            "Requirement already satisfied: urllib3<1.27,>=1.21.1 in /Users/sanghyun/miniforge3/envs/my_tensorflow/lib/python3.9/site-packages (from requests->keras-tuner>=1.1.0->autokeras) (1.26.9)\n",
            "Requirement already satisfied: certifi>=2017.4.17 in /Users/sanghyun/miniforge3/envs/my_tensorflow/lib/python3.9/site-packages (from requests->keras-tuner>=1.1.0->autokeras) (2022.6.15)\n",
            "Requirement already satisfied: appnope in /Users/sanghyun/miniforge3/envs/my_tensorflow/lib/python3.9/site-packages (from ipython->keras-tuner>=1.1.0->autokeras) (0.1.3)\n",
            "Requirement already satisfied: decorator in /Users/sanghyun/miniforge3/envs/my_tensorflow/lib/python3.9/site-packages (from ipython->keras-tuner>=1.1.0->autokeras) (5.1.1)\n",
            "Requirement already satisfied: pickleshare in /Users/sanghyun/miniforge3/envs/my_tensorflow/lib/python3.9/site-packages (from ipython->keras-tuner>=1.1.0->autokeras) (0.7.5)\n",
            "Requirement already satisfied: matplotlib-inline in /Users/sanghyun/miniforge3/envs/my_tensorflow/lib/python3.9/site-packages (from ipython->keras-tuner>=1.1.0->autokeras) (0.1.3)\n",
            "Requirement already satisfied: stack-data in /Users/sanghyun/miniforge3/envs/my_tensorflow/lib/python3.9/site-packages (from ipython->keras-tuner>=1.1.0->autokeras) (0.3.0)\n",
            "Requirement already satisfied: pygments>=2.4.0 in /Users/sanghyun/miniforge3/envs/my_tensorflow/lib/python3.9/site-packages (from ipython->keras-tuner>=1.1.0->autokeras) (2.12.0)\n",
            "Requirement already satisfied: backcall in /Users/sanghyun/miniforge3/envs/my_tensorflow/lib/python3.9/site-packages (from ipython->keras-tuner>=1.1.0->autokeras) (0.2.0)\n",
            "Requirement already satisfied: pexpect>4.3 in /Users/sanghyun/miniforge3/envs/my_tensorflow/lib/python3.9/site-packages (from ipython->keras-tuner>=1.1.0->autokeras) (4.8.0)\n",
            "Requirement already satisfied: prompt-toolkit!=3.0.0,!=3.0.1,<3.1.0,>=2.0.0 in /Users/sanghyun/miniforge3/envs/my_tensorflow/lib/python3.9/site-packages (from ipython->keras-tuner>=1.1.0->autokeras) (3.0.30)\n",
            "Requirement already satisfied: traitlets>=5 in /Users/sanghyun/miniforge3/envs/my_tensorflow/lib/python3.9/site-packages (from ipython->keras-tuner>=1.1.0->autokeras) (5.3.0)\n",
            "Requirement already satisfied: jedi>=0.16 in /Users/sanghyun/miniforge3/envs/my_tensorflow/lib/python3.9/site-packages (from ipython->keras-tuner>=1.1.0->autokeras) (0.18.1)\n",
            "Requirement already satisfied: cachetools<6.0,>=2.0.0 in /Users/sanghyun/miniforge3/envs/my_tensorflow/lib/python3.9/site-packages (from google-auth<3,>=1.6.3->tensorboard->keras-tuner>=1.1.0->autokeras) (5.2.0)\n",
            "Requirement already satisfied: rsa<5,>=3.1.4 in /Users/sanghyun/miniforge3/envs/my_tensorflow/lib/python3.9/site-packages (from google-auth<3,>=1.6.3->tensorboard->keras-tuner>=1.1.0->autokeras) (4.8)\n",
            "Requirement already satisfied: pyasn1-modules>=0.2.1 in /Users/sanghyun/miniforge3/envs/my_tensorflow/lib/python3.9/site-packages (from google-auth<3,>=1.6.3->tensorboard->keras-tuner>=1.1.0->autokeras) (0.2.8)\n",
            "Requirement already satisfied: requests-oauthlib>=0.7.0 in /Users/sanghyun/miniforge3/envs/my_tensorflow/lib/python3.9/site-packages (from google-auth-oauthlib<0.5,>=0.4.1->tensorboard->keras-tuner>=1.1.0->autokeras) (1.3.1)\n",
            "Requirement already satisfied: parso<0.9.0,>=0.8.0 in /Users/sanghyun/miniforge3/envs/my_tensorflow/lib/python3.9/site-packages (from jedi>=0.16->ipython->keras-tuner>=1.1.0->autokeras) (0.8.3)\n",
            "Requirement already satisfied: importlib-metadata>=4.4 in /Users/sanghyun/miniforge3/envs/my_tensorflow/lib/python3.9/site-packages (from markdown>=2.6.8->tensorboard->keras-tuner>=1.1.0->autokeras) (4.12.0)\n",
            "Requirement already satisfied: ptyprocess>=0.5 in /Users/sanghyun/miniforge3/envs/my_tensorflow/lib/python3.9/site-packages (from pexpect>4.3->ipython->keras-tuner>=1.1.0->autokeras) (0.7.0)\n",
            "Requirement already satisfied: wcwidth in /Users/sanghyun/miniforge3/envs/my_tensorflow/lib/python3.9/site-packages (from prompt-toolkit!=3.0.0,!=3.0.1,<3.1.0,>=2.0.0->ipython->keras-tuner>=1.1.0->autokeras) (0.2.5)\n",
            "Requirement already satisfied: executing in /Users/sanghyun/miniforge3/envs/my_tensorflow/lib/python3.9/site-packages (from stack-data->ipython->keras-tuner>=1.1.0->autokeras) (0.8.3)\n",
            "Requirement already satisfied: pure-eval in /Users/sanghyun/miniforge3/envs/my_tensorflow/lib/python3.9/site-packages (from stack-data->ipython->keras-tuner>=1.1.0->autokeras) (0.2.2)\n",
            "Requirement already satisfied: asttokens in /Users/sanghyun/miniforge3/envs/my_tensorflow/lib/python3.9/site-packages (from stack-data->ipython->keras-tuner>=1.1.0->autokeras) (2.0.5)\n",
            "Requirement already satisfied: zipp>=0.5 in /Users/sanghyun/miniforge3/envs/my_tensorflow/lib/python3.9/site-packages (from importlib-metadata>=4.4->markdown>=2.6.8->tensorboard->keras-tuner>=1.1.0->autokeras) (3.8.0)\n",
            "Requirement already satisfied: pyasn1<0.5.0,>=0.4.6 in /Users/sanghyun/miniforge3/envs/my_tensorflow/lib/python3.9/site-packages (from pyasn1-modules>=0.2.1->google-auth<3,>=1.6.3->tensorboard->keras-tuner>=1.1.0->autokeras) (0.4.8)\n",
            "Requirement already satisfied: oauthlib>=3.0.0 in /Users/sanghyun/miniforge3/envs/my_tensorflow/lib/python3.9/site-packages (from requests-oauthlib>=0.7.0->google-auth-oauthlib<0.5,>=0.4.1->tensorboard->keras-tuner>=1.1.0->autokeras) (3.2.0)\n",
            "Installing collected packages: kt-legacy, tensorflow-io-gcs-filesystem, tensorflow, keras-tuner, autokeras\n",
            "Successfully installed autokeras-1.0.19 keras-tuner-1.1.2 kt-legacy-1.0.4 tensorflow-2.9.1 tensorflow-io-gcs-filesystem-0.26.0\n"
          ]
        }
      ],
      "source": [
        "!pip install autokeras"
      ]
    },
    {
      "cell_type": "code",
      "execution_count": 31,
      "metadata": {
        "colab": {
          "base_uri": "https://localhost:8080/",
          "height": 408
        },
        "id": "7enxXW7bOQBH",
        "outputId": "df410d60-f986-41e4-b951-a980a9f53c7a"
      },
      "outputs": [
        {
          "name": "stdout",
          "output_type": "stream",
          "text": [
            "\n",
            "Search: Running Trial #1\n",
            "\n",
            "Value             |Best Value So Far |Hyperparameter\n",
            "vanilla           |?                 |image_block_1/block_type\n",
            "True              |?                 |image_block_1/normalize\n",
            "False             |?                 |image_block_1/augment\n",
            "3                 |?                 |image_block_1/conv_block_1/kernel_size\n",
            "1                 |?                 |image_block_1/conv_block_1/num_blocks\n",
            "2                 |?                 |image_block_1/conv_block_1/num_layers\n",
            "True              |?                 |image_block_1/conv_block_1/max_pooling\n",
            "False             |?                 |image_block_1/conv_block_1/separable\n",
            "0.25              |?                 |image_block_1/conv_block_1/dropout\n",
            "32                |?                 |image_block_1/conv_block_1/filters_0_0\n",
            "64                |?                 |image_block_1/conv_block_1/filters_0_1\n",
            "flatten           |?                 |classification_head_1/spatial_reduction_1/reduction_type\n",
            "0.5               |?                 |classification_head_1/dropout\n",
            "adam              |?                 |optimizer\n",
            "0.001             |?                 |learning_rate\n",
            "\n"
          ]
        },
        {
          "ename": "TypeError",
          "evalue": "fit() got an unexpected keyword argument 'time_limit'",
          "output_type": "error",
          "traceback": [
            "\u001b[0;31m---------------------------------------------------------------------------\u001b[0m",
            "\u001b[0;31mTypeError\u001b[0m                                 Traceback (most recent call last)",
            "\u001b[1;32m/Users/sanghyun/Desktop/Coding/deepLearning_study/DL_TF_ver2.ipynb Cell 37'\u001b[0m in \u001b[0;36m<cell line: 4>\u001b[0;34m()\u001b[0m\n\u001b[1;32m      <a href='vscode-notebook-cell:/Users/sanghyun/Desktop/Coding/deepLearning_study/DL_TF_ver2.ipynb#ch0000036?line=0'>1</a>\u001b[0m \u001b[39mimport\u001b[39;00m \u001b[39mautokeras\u001b[39;00m \u001b[39mas\u001b[39;00m \u001b[39mak\u001b[39;00m\n\u001b[1;32m      <a href='vscode-notebook-cell:/Users/sanghyun/Desktop/Coding/deepLearning_study/DL_TF_ver2.ipynb#ch0000036?line=2'>3</a>\u001b[0m model \u001b[39m=\u001b[39m ak\u001b[39m.\u001b[39mImageClassifier() \u001b[39m# It searches CNN architectures for the best configuration for the image dataset.\u001b[39;00m\n\u001b[0;32m----> <a href='vscode-notebook-cell:/Users/sanghyun/Desktop/Coding/deepLearning_study/DL_TF_ver2.ipynb#ch0000036?line=3'>4</a>\u001b[0m model\u001b[39m.\u001b[39;49mfit(train_data, train_label, time_limit\u001b[39m=\u001b[39;49m\u001b[39m3600\u001b[39;49m) \u001b[39m# time_limit: The time limit for the search in seconds.\u001b[39;00m\n\u001b[1;32m      <a href='vscode-notebook-cell:/Users/sanghyun/Desktop/Coding/deepLearning_study/DL_TF_ver2.ipynb#ch0000036?line=5'>6</a>\u001b[0m accuracy \u001b[39m=\u001b[39m model\u001b[39m.\u001b[39mevaluate(test_data, test_label)\n\u001b[1;32m      <a href='vscode-notebook-cell:/Users/sanghyun/Desktop/Coding/deepLearning_study/DL_TF_ver2.ipynb#ch0000036?line=6'>7</a>\u001b[0m result \u001b[39m=\u001b[39m model\u001b[39m.\u001b[39mpredict(test_data)\n",
            "File \u001b[0;32m~/miniforge3/envs/my_tensorflow/lib/python3.9/site-packages/autokeras/tasks/image.py:165\u001b[0m, in \u001b[0;36mImageClassifier.fit\u001b[0;34m(self, x, y, epochs, callbacks, validation_split, validation_data, **kwargs)\u001b[0m\n\u001b[1;32m    108\u001b[0m \u001b[39mdef\u001b[39;00m \u001b[39mfit\u001b[39m(\n\u001b[1;32m    109\u001b[0m     \u001b[39mself\u001b[39m,\n\u001b[1;32m    110\u001b[0m     x: Optional[types\u001b[39m.\u001b[39mDatasetType] \u001b[39m=\u001b[39m \u001b[39mNone\u001b[39;00m,\n\u001b[0;32m   (...)\u001b[0m\n\u001b[1;32m    118\u001b[0m     \u001b[39m*\u001b[39m\u001b[39m*\u001b[39mkwargs\n\u001b[1;32m    119\u001b[0m ):\n\u001b[1;32m    120\u001b[0m     \u001b[39m\"\"\"Search for the best model and hyperparameters for the AutoModel.\u001b[39;00m\n\u001b[1;32m    121\u001b[0m \n\u001b[1;32m    122\u001b[0m \u001b[39m    It will search for the best model based on the performances on\u001b[39;00m\n\u001b[0;32m   (...)\u001b[0m\n\u001b[1;32m    163\u001b[0m \u001b[39m            validation loss values and validation metrics values (if applicable).\u001b[39;00m\n\u001b[1;32m    164\u001b[0m \u001b[39m    \"\"\"\u001b[39;00m\n\u001b[0;32m--> 165\u001b[0m     history \u001b[39m=\u001b[39m \u001b[39msuper\u001b[39;49m()\u001b[39m.\u001b[39;49mfit(\n\u001b[1;32m    166\u001b[0m         x\u001b[39m=\u001b[39;49mx,\n\u001b[1;32m    167\u001b[0m         y\u001b[39m=\u001b[39;49my,\n\u001b[1;32m    168\u001b[0m         epochs\u001b[39m=\u001b[39;49mepochs,\n\u001b[1;32m    169\u001b[0m         callbacks\u001b[39m=\u001b[39;49mcallbacks,\n\u001b[1;32m    170\u001b[0m         validation_split\u001b[39m=\u001b[39;49mvalidation_split,\n\u001b[1;32m    171\u001b[0m         validation_data\u001b[39m=\u001b[39;49mvalidation_data,\n\u001b[1;32m    172\u001b[0m         \u001b[39m*\u001b[39;49m\u001b[39m*\u001b[39;49mkwargs\n\u001b[1;32m    173\u001b[0m     )\n\u001b[1;32m    174\u001b[0m     \u001b[39mreturn\u001b[39;00m history\n",
            "File \u001b[0;32m~/miniforge3/envs/my_tensorflow/lib/python3.9/site-packages/autokeras/auto_model.py:292\u001b[0m, in \u001b[0;36mAutoModel.fit\u001b[0;34m(self, x, y, batch_size, epochs, callbacks, validation_split, validation_data, verbose, **kwargs)\u001b[0m\n\u001b[1;32m    287\u001b[0m \u001b[39mif\u001b[39;00m validation_data \u001b[39mis\u001b[39;00m \u001b[39mNone\u001b[39;00m \u001b[39mand\u001b[39;00m validation_split:\n\u001b[1;32m    288\u001b[0m     dataset, validation_data \u001b[39m=\u001b[39m data_utils\u001b[39m.\u001b[39msplit_dataset(\n\u001b[1;32m    289\u001b[0m         dataset, validation_split\n\u001b[1;32m    290\u001b[0m     )\n\u001b[0;32m--> 292\u001b[0m history \u001b[39m=\u001b[39m \u001b[39mself\u001b[39;49m\u001b[39m.\u001b[39;49mtuner\u001b[39m.\u001b[39;49msearch(\n\u001b[1;32m    293\u001b[0m     x\u001b[39m=\u001b[39;49mdataset,\n\u001b[1;32m    294\u001b[0m     epochs\u001b[39m=\u001b[39;49mepochs,\n\u001b[1;32m    295\u001b[0m     callbacks\u001b[39m=\u001b[39;49mcallbacks,\n\u001b[1;32m    296\u001b[0m     validation_data\u001b[39m=\u001b[39;49mvalidation_data,\n\u001b[1;32m    297\u001b[0m     validation_split\u001b[39m=\u001b[39;49mvalidation_split,\n\u001b[1;32m    298\u001b[0m     verbose\u001b[39m=\u001b[39;49mverbose,\n\u001b[1;32m    299\u001b[0m     \u001b[39m*\u001b[39;49m\u001b[39m*\u001b[39;49mkwargs\n\u001b[1;32m    300\u001b[0m )\n\u001b[1;32m    302\u001b[0m \u001b[39mreturn\u001b[39;00m history\n",
            "File \u001b[0;32m~/miniforge3/envs/my_tensorflow/lib/python3.9/site-packages/autokeras/engine/tuner.py:193\u001b[0m, in \u001b[0;36mAutoTuner.search\u001b[0;34m(self, epochs, callbacks, validation_split, verbose, **fit_kwargs)\u001b[0m\n\u001b[1;32m    191\u001b[0m \u001b[39mself\u001b[39m\u001b[39m.\u001b[39m_try_build(hp)\n\u001b[1;32m    192\u001b[0m \u001b[39mself\u001b[39m\u001b[39m.\u001b[39moracle\u001b[39m.\u001b[39mupdate_space(hp)\n\u001b[0;32m--> 193\u001b[0m \u001b[39msuper\u001b[39;49m()\u001b[39m.\u001b[39;49msearch(\n\u001b[1;32m    194\u001b[0m     epochs\u001b[39m=\u001b[39;49mepochs, callbacks\u001b[39m=\u001b[39;49mnew_callbacks, verbose\u001b[39m=\u001b[39;49mverbose, \u001b[39m*\u001b[39;49m\u001b[39m*\u001b[39;49mfit_kwargs\n\u001b[1;32m    195\u001b[0m )\n\u001b[1;32m    197\u001b[0m \u001b[39m# Train the best model use validation data.\u001b[39;00m\n\u001b[1;32m    198\u001b[0m \u001b[39m# Train the best model with enough number of epochs.\u001b[39;00m\n\u001b[1;32m    199\u001b[0m \u001b[39mif\u001b[39;00m validation_split \u001b[39m>\u001b[39m \u001b[39m0\u001b[39m \u001b[39mor\u001b[39;00m early_stopping_inserted:\n",
            "File \u001b[0;32m~/miniforge3/envs/my_tensorflow/lib/python3.9/site-packages/keras_tuner/engine/base_tuner.py:179\u001b[0m, in \u001b[0;36mBaseTuner.search\u001b[0;34m(self, *fit_args, **fit_kwargs)\u001b[0m\n\u001b[1;32m    176\u001b[0m     \u001b[39mcontinue\u001b[39;00m\n\u001b[1;32m    178\u001b[0m \u001b[39mself\u001b[39m\u001b[39m.\u001b[39mon_trial_begin(trial)\n\u001b[0;32m--> 179\u001b[0m results \u001b[39m=\u001b[39m \u001b[39mself\u001b[39;49m\u001b[39m.\u001b[39;49mrun_trial(trial, \u001b[39m*\u001b[39;49mfit_args, \u001b[39m*\u001b[39;49m\u001b[39m*\u001b[39;49mfit_kwargs)\n\u001b[1;32m    180\u001b[0m \u001b[39m# `results` is None indicates user updated oracle in `run_trial()`.\u001b[39;00m\n\u001b[1;32m    181\u001b[0m \u001b[39mif\u001b[39;00m results \u001b[39mis\u001b[39;00m \u001b[39mNone\u001b[39;00m:\n",
            "File \u001b[0;32m~/miniforge3/envs/my_tensorflow/lib/python3.9/site-packages/keras_tuner/engine/tuner.py:294\u001b[0m, in \u001b[0;36mTuner.run_trial\u001b[0;34m(self, trial, *args, **kwargs)\u001b[0m\n\u001b[1;32m    292\u001b[0m     callbacks\u001b[39m.\u001b[39mappend(model_checkpoint)\n\u001b[1;32m    293\u001b[0m     copied_kwargs[\u001b[39m\"\u001b[39m\u001b[39mcallbacks\u001b[39m\u001b[39m\"\u001b[39m] \u001b[39m=\u001b[39m callbacks\n\u001b[0;32m--> 294\u001b[0m     obj_value \u001b[39m=\u001b[39m \u001b[39mself\u001b[39;49m\u001b[39m.\u001b[39;49m_build_and_fit_model(trial, \u001b[39m*\u001b[39;49margs, \u001b[39m*\u001b[39;49m\u001b[39m*\u001b[39;49mcopied_kwargs)\n\u001b[1;32m    296\u001b[0m     histories\u001b[39m.\u001b[39mappend(obj_value)\n\u001b[1;32m    297\u001b[0m \u001b[39mreturn\u001b[39;00m histories\n",
            "File \u001b[0;32m~/miniforge3/envs/my_tensorflow/lib/python3.9/site-packages/autokeras/engine/tuner.py:101\u001b[0m, in \u001b[0;36mAutoTuner._build_and_fit_model\u001b[0;34m(self, trial, *args, **kwargs)\u001b[0m\n\u001b[1;32m     97\u001b[0m pipeline\u001b[39m.\u001b[39msave(\u001b[39mself\u001b[39m\u001b[39m.\u001b[39m_pipeline_path(trial\u001b[39m.\u001b[39mtrial_id))\n\u001b[1;32m     99\u001b[0m \u001b[39mself\u001b[39m\u001b[39m.\u001b[39madapt(model, kwargs[\u001b[39m\"\u001b[39m\u001b[39mx\u001b[39m\u001b[39m\"\u001b[39m])\n\u001b[0;32m--> 101\u001b[0m _, history \u001b[39m=\u001b[39m utils\u001b[39m.\u001b[39;49mfit_with_adaptive_batch_size(\n\u001b[1;32m    102\u001b[0m     model, \u001b[39mself\u001b[39;49m\u001b[39m.\u001b[39;49mhypermodel\u001b[39m.\u001b[39;49mbatch_size, \u001b[39m*\u001b[39;49m\u001b[39m*\u001b[39;49mkwargs\n\u001b[1;32m    103\u001b[0m )\n\u001b[1;32m    104\u001b[0m \u001b[39mreturn\u001b[39;00m history\n",
            "File \u001b[0;32m~/miniforge3/envs/my_tensorflow/lib/python3.9/site-packages/autokeras/utils/utils.py:88\u001b[0m, in \u001b[0;36mfit_with_adaptive_batch_size\u001b[0;34m(model, batch_size, **fit_kwargs)\u001b[0m\n\u001b[1;32m     87\u001b[0m \u001b[39mdef\u001b[39;00m \u001b[39mfit_with_adaptive_batch_size\u001b[39m(model, batch_size, \u001b[39m*\u001b[39m\u001b[39m*\u001b[39mfit_kwargs):\n\u001b[0;32m---> 88\u001b[0m     history \u001b[39m=\u001b[39m run_with_adaptive_batch_size(\n\u001b[1;32m     89\u001b[0m         batch_size, \u001b[39mlambda\u001b[39;49;00m \u001b[39m*\u001b[39;49m\u001b[39m*\u001b[39;49mkwargs: model\u001b[39m.\u001b[39;49mfit(\u001b[39m*\u001b[39;49m\u001b[39m*\u001b[39;49mkwargs), \u001b[39m*\u001b[39;49m\u001b[39m*\u001b[39;49mfit_kwargs\n\u001b[1;32m     90\u001b[0m     )\n\u001b[1;32m     91\u001b[0m     \u001b[39mreturn\u001b[39;00m model, history\n",
            "File \u001b[0;32m~/miniforge3/envs/my_tensorflow/lib/python3.9/site-packages/autokeras/utils/utils.py:101\u001b[0m, in \u001b[0;36mrun_with_adaptive_batch_size\u001b[0;34m(batch_size, func, **fit_kwargs)\u001b[0m\n\u001b[1;32m     99\u001b[0m \u001b[39mwhile\u001b[39;00m batch_size \u001b[39m>\u001b[39m \u001b[39m0\u001b[39m:\n\u001b[1;32m    100\u001b[0m     \u001b[39mtry\u001b[39;00m:\n\u001b[0;32m--> 101\u001b[0m         history \u001b[39m=\u001b[39m func(x\u001b[39m=\u001b[39;49mx, validation_data\u001b[39m=\u001b[39;49mvalidation_data, \u001b[39m*\u001b[39;49m\u001b[39m*\u001b[39;49mfit_kwargs)\n\u001b[1;32m    102\u001b[0m         \u001b[39mbreak\u001b[39;00m\n\u001b[1;32m    103\u001b[0m     \u001b[39mexcept\u001b[39;00m tf\u001b[39m.\u001b[39merrors\u001b[39m.\u001b[39mResourceExhaustedError \u001b[39mas\u001b[39;00m e:\n",
            "File \u001b[0;32m~/miniforge3/envs/my_tensorflow/lib/python3.9/site-packages/autokeras/utils/utils.py:89\u001b[0m, in \u001b[0;36mfit_with_adaptive_batch_size.<locals>.<lambda>\u001b[0;34m(**kwargs)\u001b[0m\n\u001b[1;32m     87\u001b[0m \u001b[39mdef\u001b[39;00m \u001b[39mfit_with_adaptive_batch_size\u001b[39m(model, batch_size, \u001b[39m*\u001b[39m\u001b[39m*\u001b[39mfit_kwargs):\n\u001b[1;32m     88\u001b[0m     history \u001b[39m=\u001b[39m run_with_adaptive_batch_size(\n\u001b[0;32m---> 89\u001b[0m         batch_size, \u001b[39mlambda\u001b[39;00m \u001b[39m*\u001b[39m\u001b[39m*\u001b[39mkwargs: model\u001b[39m.\u001b[39;49mfit(\u001b[39m*\u001b[39;49m\u001b[39m*\u001b[39;49mkwargs), \u001b[39m*\u001b[39m\u001b[39m*\u001b[39mfit_kwargs\n\u001b[1;32m     90\u001b[0m     )\n\u001b[1;32m     91\u001b[0m     \u001b[39mreturn\u001b[39;00m model, history\n",
            "File \u001b[0;32m~/miniforge3/envs/my_tensorflow/lib/python3.9/site-packages/keras/utils/traceback_utils.py:67\u001b[0m, in \u001b[0;36mfilter_traceback.<locals>.error_handler\u001b[0;34m(*args, **kwargs)\u001b[0m\n\u001b[1;32m     65\u001b[0m \u001b[39mexcept\u001b[39;00m \u001b[39mException\u001b[39;00m \u001b[39mas\u001b[39;00m e:  \u001b[39m# pylint: disable=broad-except\u001b[39;00m\n\u001b[1;32m     66\u001b[0m   filtered_tb \u001b[39m=\u001b[39m _process_traceback_frames(e\u001b[39m.\u001b[39m__traceback__)\n\u001b[0;32m---> 67\u001b[0m   \u001b[39mraise\u001b[39;00m e\u001b[39m.\u001b[39mwith_traceback(filtered_tb) \u001b[39mfrom\u001b[39;00m \u001b[39mNone\u001b[39m\n\u001b[1;32m     68\u001b[0m \u001b[39mfinally\u001b[39;00m:\n\u001b[1;32m     69\u001b[0m   \u001b[39mdel\u001b[39;00m filtered_tb\n",
            "File \u001b[0;32m~/miniforge3/envs/my_tensorflow/lib/python3.9/site-packages/keras/utils/traceback_utils.py:64\u001b[0m, in \u001b[0;36mfilter_traceback.<locals>.error_handler\u001b[0;34m(*args, **kwargs)\u001b[0m\n\u001b[1;32m     62\u001b[0m filtered_tb \u001b[39m=\u001b[39m \u001b[39mNone\u001b[39;00m\n\u001b[1;32m     63\u001b[0m \u001b[39mtry\u001b[39;00m:\n\u001b[0;32m---> 64\u001b[0m   \u001b[39mreturn\u001b[39;00m fn(\u001b[39m*\u001b[39margs, \u001b[39m*\u001b[39m\u001b[39m*\u001b[39mkwargs)\n\u001b[1;32m     65\u001b[0m \u001b[39mexcept\u001b[39;00m \u001b[39mException\u001b[39;00m \u001b[39mas\u001b[39;00m e:  \u001b[39m# pylint: disable=broad-except\u001b[39;00m\n\u001b[1;32m     66\u001b[0m   filtered_tb \u001b[39m=\u001b[39m _process_traceback_frames(e\u001b[39m.\u001b[39m__traceback__)\n",
            "\u001b[0;31mTypeError\u001b[0m: fit() got an unexpected keyword argument 'time_limit'"
          ]
        }
      ],
      "source": [
        "import autokeras as ak\n",
        "\n",
        "model = ak.ImageClassifier() # It searches CNN architectures for the best configuration for the image dataset.\n",
        "model.fit(train_data, train_label, time_limit=3600) # time_limit: The time limit for the search in seconds.\n",
        "\n",
        "accuracy = model.evaluate(test_data, test_label)\n",
        "result = model.predict(test_data)\n",
        "\n",
        "print(accuracy)\n",
        "print(result)"
      ]
    },
    {
      "cell_type": "markdown",
      "metadata": {
        "id": "888MXh4jOQBH"
      },
      "source": [
        "<br>\n",
        "\n",
        "#### Appendix \n",
        "- Automated Machine Learning with Auto-Keras @ http://j.mp/2xeG2c2\n",
        "- Keras vs PyTorch @ https://goo.gl/ar5VPB"
      ]
    },
    {
      "cell_type": "markdown",
      "metadata": {
        "id": "FG_pVacPOQBH"
      },
      "source": [
        "## Dropout + BN"
      ]
    },
    {
      "cell_type": "code",
      "execution_count": 8,
      "metadata": {},
      "outputs": [],
      "source": [
        "import tensorflow as tf\n",
        "from tensorflow.keras import datasets, utils\n",
        "from tensorflow.keras import models, layers, activations, initializers, losses, optimizers, metrics"
      ]
    },
    {
      "cell_type": "markdown",
      "metadata": {
        "id": "Ru1iv1CMOQBH"
      },
      "source": [
        "<br> \n",
        "\n",
        "#### 1. Prepare train & test data (MNIST)"
      ]
    },
    {
      "cell_type": "markdown",
      "metadata": {
        "id": "qsrRuvskOQBH"
      },
      "source": [
        "#### Train & Test split"
      ]
    },
    {
      "cell_type": "code",
      "execution_count": 9,
      "metadata": {
        "id": "kDqLvKy2OQBH"
      },
      "outputs": [],
      "source": [
        "(train_data, train_label), (test_data, test_label) = datasets.mnist.load_data()"
      ]
    },
    {
      "cell_type": "markdown",
      "metadata": {
        "id": "01HnpMJWOQBH"
      },
      "source": [
        "#### Normalization"
      ]
    },
    {
      "cell_type": "code",
      "execution_count": 10,
      "metadata": {
        "id": "aynfjIhdOQBI"
      },
      "outputs": [],
      "source": [
        "train_data = train_data.reshape(60000, 784) / 255.0\n",
        "test_data = test_data.reshape(10000, 784) / 255.0"
      ]
    },
    {
      "cell_type": "markdown",
      "metadata": {
        "id": "xBO__y42OQBI"
      },
      "source": [
        "#### One-hot encoding"
      ]
    },
    {
      "cell_type": "code",
      "execution_count": 11,
      "metadata": {
        "colab": {
          "base_uri": "https://localhost:8080/",
          "height": 188
        },
        "id": "Zu2YjciXOQBI",
        "outputId": "4872ca45-6880-4d84-b465-86b95c13ec5d"
      },
      "outputs": [],
      "source": [
        "train_label = utils.to_categorical(train_label) # 0~9 -> one-hot vector\n",
        "test_label = utils.to_categorical(test_label) # 0~9 -> one-hot vector"
      ]
    },
    {
      "cell_type": "markdown",
      "metadata": {
        "id": "DzL8eOiDOQBI"
      },
      "source": [
        "<br> \n",
        "\n",
        "#### 2. Build the model & Set the criterion"
      ]
    },
    {
      "cell_type": "code",
      "execution_count": 12,
      "metadata": {
        "id": "_zkFVx_3OQBI"
      },
      "outputs": [],
      "source": [
        "model = models.Sequential() \n",
        "\n",
        "model.add(layers.Dense(input_dim=28*28, units=256, activation=None, kernel_initializer=initializers.he_uniform())) \n",
        "model.add(layers.BatchNormalization())\n",
        "model.add(layers.Activation('relu')) # layers.ELU or layers.LeakyReLU\n",
        "model.add(layers.Dropout(rate=0.2))\n",
        "\n",
        "model.add(layers.Dense(units=256, activation=None, kernel_initializer=initializers.he_uniform())) \n",
        "model.add(layers.BatchNormalization())\n",
        "model.add(layers.Activation('relu')) # layers.ELU or layers.LeakyReLU\n",
        "model.add(layers.Dropout(rate=0.2))\n",
        "\n",
        "model.add(layers.Dense(units=10, activation='softmax')) # 0~9 "
      ]
    },
    {
      "cell_type": "code",
      "execution_count": 13,
      "metadata": {
        "id": "fx971TasOQBI"
      },
      "outputs": [],
      "source": [
        "model.compile(optimizer=optimizers.Adam(0.005), #Adam안에 이는 ()에서 learning rate 부여 가능\n",
        "              loss=losses.categorical_crossentropy, \n",
        "              metrics=[metrics.categorical_accuracy]) # Precision / Recall / F1-Score 적용하기 @ https://j.mp/3cf3lbi\n",
        "\n",
        "# model.compile(optimizer='adam', \n",
        "#               loss=losses.categorical_crossentropy, \n",
        "#               metrics=['accuracy'])"
      ]
    },
    {
      "cell_type": "markdown",
      "metadata": {
        "id": "i1r_zoMoOQBI"
      },
      "source": [
        "<br> \n",
        "\n",
        "#### 3. Train the model"
      ]
    },
    {
      "cell_type": "code",
      "execution_count": 14,
      "metadata": {
        "id": "6ZnuH1gZOQBJ"
      },
      "outputs": [
        {
          "name": "stdout",
          "output_type": "stream",
          "text": [
            "Epoch 1/15\n"
          ]
        },
        {
          "name": "stderr",
          "output_type": "stream",
          "text": [
            "2022-06-30 14:30:35.649756: I tensorflow/core/grappler/optimizers/custom_graph_optimizer_registry.cc:113] Plugin optimizer for device_type GPU is enabled.\n"
          ]
        },
        {
          "name": "stdout",
          "output_type": "stream",
          "text": [
            "480/480 [==============================] - ETA: 0s - loss: 0.2303 - categorical_accuracy: 0.9297"
          ]
        },
        {
          "name": "stderr",
          "output_type": "stream",
          "text": [
            "2022-06-30 14:30:46.251409: I tensorflow/core/grappler/optimizers/custom_graph_optimizer_registry.cc:113] Plugin optimizer for device_type GPU is enabled.\n"
          ]
        },
        {
          "name": "stdout",
          "output_type": "stream",
          "text": [
            "480/480 [==============================] - 12s 20ms/step - loss: 0.2303 - categorical_accuracy: 0.9297 - val_loss: 0.1139 - val_categorical_accuracy: 0.9653\n",
            "Epoch 2/15\n",
            "480/480 [==============================] - 10s 20ms/step - loss: 0.1189 - categorical_accuracy: 0.9625 - val_loss: 0.1087 - val_categorical_accuracy: 0.9675\n",
            "Epoch 3/15\n",
            "480/480 [==============================] - 9s 20ms/step - loss: 0.0893 - categorical_accuracy: 0.9714 - val_loss: 0.0923 - val_categorical_accuracy: 0.9739\n",
            "Epoch 4/15\n",
            "480/480 [==============================] - 9s 20ms/step - loss: 0.0728 - categorical_accuracy: 0.9771 - val_loss: 0.0841 - val_categorical_accuracy: 0.9766\n",
            "Epoch 5/15\n",
            "480/480 [==============================] - 9s 20ms/step - loss: 0.0625 - categorical_accuracy: 0.9798 - val_loss: 0.0824 - val_categorical_accuracy: 0.9777\n",
            "Epoch 6/15\n",
            "480/480 [==============================] - 10s 20ms/step - loss: 0.0543 - categorical_accuracy: 0.9824 - val_loss: 0.0883 - val_categorical_accuracy: 0.9762\n",
            "Epoch 7/15\n",
            "480/480 [==============================] - 9s 20ms/step - loss: 0.0501 - categorical_accuracy: 0.9835 - val_loss: 0.1039 - val_categorical_accuracy: 0.9718\n",
            "Epoch 8/15\n",
            "480/480 [==============================] - 9s 20ms/step - loss: 0.0462 - categorical_accuracy: 0.9850 - val_loss: 0.0843 - val_categorical_accuracy: 0.9784\n",
            "Epoch 9/15\n",
            "480/480 [==============================] - 10s 20ms/step - loss: 0.0409 - categorical_accuracy: 0.9861 - val_loss: 0.0872 - val_categorical_accuracy: 0.9787\n",
            "Epoch 10/15\n",
            "480/480 [==============================] - 9s 20ms/step - loss: 0.0375 - categorical_accuracy: 0.9875 - val_loss: 0.0719 - val_categorical_accuracy: 0.9811\n",
            "Epoch 11/15\n",
            "480/480 [==============================] - 9s 20ms/step - loss: 0.0358 - categorical_accuracy: 0.9875 - val_loss: 0.0906 - val_categorical_accuracy: 0.9790\n",
            "Epoch 12/15\n",
            "480/480 [==============================] - 9s 20ms/step - loss: 0.0349 - categorical_accuracy: 0.9879 - val_loss: 0.1130 - val_categorical_accuracy: 0.9731\n",
            "Epoch 13/15\n",
            "480/480 [==============================] - 10s 20ms/step - loss: 0.0334 - categorical_accuracy: 0.9889 - val_loss: 0.0914 - val_categorical_accuracy: 0.9778\n",
            "Epoch 14/15\n",
            "480/480 [==============================] - 10s 20ms/step - loss: 0.0307 - categorical_accuracy: 0.9897 - val_loss: 0.0851 - val_categorical_accuracy: 0.9792\n",
            "Epoch 15/15\n",
            "480/480 [==============================] - 9s 20ms/step - loss: 0.0270 - categorical_accuracy: 0.9909 - val_loss: 0.0839 - val_categorical_accuracy: 0.9797\n"
          ]
        }
      ],
      "source": [
        "# Training 과정에서 epoch마다 활용할 validation set을 나눠줄 수 있습니다.\n",
        "\n",
        "history = model.fit(train_data, train_label, batch_size=100, epochs=15, validation_split=0.2) "
      ]
    },
    {
      "cell_type": "markdown",
      "metadata": {
        "id": "0IX4gvppOQBJ"
      },
      "source": [
        "<br> \n",
        "\n",
        "#### 4. Test the model"
      ]
    },
    {
      "cell_type": "code",
      "execution_count": 15,
      "metadata": {
        "colab": {
          "base_uri": "https://localhost:8080/",
          "height": 821
        },
        "id": "VDZnTxiROQBJ",
        "outputId": "1414bc81-d690-4039-833e-c417dd93a635"
      },
      "outputs": [
        {
          "name": "stdout",
          "output_type": "stream",
          "text": [
            "100/100 [==============================] - 1s 10ms/step - loss: 0.0775 - categorical_accuracy: 0.9812\n",
            "loss (cross-entropy) : 0.07750407606363297\n",
            "test accuracy : 0.9811999797821045\n"
          ]
        }
      ],
      "source": [
        "result = model.evaluate(test_data, test_label, batch_size=100)\n",
        "\n",
        "print('loss (cross-entropy) :', result[0])\n",
        "print('test accuracy :', result[1])"
      ]
    },
    {
      "cell_type": "markdown",
      "metadata": {
        "id": "I_EvhQ_0OQBJ"
      },
      "source": [
        "<br> \n",
        "\n",
        "#### 5. Visualize the result"
      ]
    },
    {
      "cell_type": "code",
      "execution_count": 16,
      "metadata": {
        "id": "e1MF1iKZOQBJ"
      },
      "outputs": [
        {
          "data": {
            "text/plain": [
              "dict_keys(['loss', 'categorical_accuracy', 'val_loss', 'val_categorical_accuracy'])"
            ]
          },
          "execution_count": 16,
          "metadata": {},
          "output_type": "execute_result"
        }
      ],
      "source": [
        "history.history.keys()"
      ]
    },
    {
      "cell_type": "code",
      "execution_count": 17,
      "metadata": {
        "colab": {
          "base_uri": "https://localhost:8080/",
          "height": 241
        },
        "id": "A7jcBIGUOQBJ",
        "outputId": "63fd8b04-c4fe-4789-a451-6c983c910923"
      },
      "outputs": [
        {
          "data": {
            "image/png": "[encoded data removed]",
            "text/plain": [
              "<Figure size 432x288 with 1 Axes>"
            ]
          },
          "metadata": {
            "needs_background": "light"
          },
          "output_type": "display_data"
        }
      ],
      "source": [
        "val_acc = history.history['val_categorical_accuracy']\n",
        "acc = history.history['categorical_accuracy']\n",
        "\n",
        "import numpy as np\n",
        "import matplotlib.pyplot as plt\n",
        "\n",
        "x_len = np.arange(len(acc))\n",
        "plt.plot(x_len, acc, marker='.', c='blue', label=\"Train-set Acc.\")\n",
        "plt.plot(x_len, val_acc, marker='.', c='red', label=\"Validation-set Acc.\")\n",
        "\n",
        "plt.legend(loc='upper right')\n",
        "plt.grid()\n",
        "plt.xlabel('epoch')\n",
        "plt.ylabel('Accuracy')\n",
        "plt.show()"
      ]
    }
  ],
  "metadata": {
    "colab": {
      "name": "DL_TF_ver2.ipynb",
      "provenance": []
    },
    "kernelspec": {
      "display_name": "Python 3.9.13 ('my_tensorflow')",
      "language": "python",
      "name": "python3"
    },
    "language_info": {
      "codemirror_mode": {
        "name": "ipython",
        "version": 3
      },
      "file_extension": ".py",
      "mimetype": "text/x-python",
      "name": "python",
      "nbconvert_exporter": "python",
      "pygments_lexer": "ipython3",
      "version": "3.9.13"
    },
    "orig_nbformat": 4,
    "vscode": {
      "interpreter": {
        "hash": "a13b2158f5f590759112fdfcd8985cfe4d6019722f1381a1f469009343ecb6f3"
      }
    }
  },
  "nbformat": 4,
  "nbformat_minor": 0
}
